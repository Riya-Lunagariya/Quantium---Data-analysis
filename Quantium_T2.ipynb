{
  "nbformat": 4,
  "nbformat_minor": 0,
  "metadata": {
    "colab": {
      "provenance": []
    },
    "kernelspec": {
      "name": "python3",
      "display_name": "Python 3"
    },
    "language_info": {
      "name": "python"
    }
  },
  "cells": [
    {
      "cell_type": "code",
      "execution_count": null,
      "metadata": {
        "colab": {
          "base_uri": "https://localhost:8080/"
        },
        "id": "9Tzs9wga4v5T",
        "outputId": "80a55b1d-ef24-4c38-dea2-79d248af6b5c"
      },
      "outputs": [
        {
          "output_type": "stream",
          "name": "stdout",
          "text": [
            "Mounted at /content/drive\n"
          ]
        }
      ],
      "source": [
        "# Mounting Google Drive\n",
        "from google.colab import drive\n",
        "drive.mount('/content/drive')"
      ]
    },
    {
      "cell_type": "code",
      "source": [
        "# Import libraries\n",
        "import pandas as pd\n",
        "import numpy as np\n",
        "from matplotlib import pyplot as plt\n",
        "import seaborn as sns\n",
        "%matplotlib inline"
      ],
      "metadata": {
        "id": "jNglIrnn5HIF"
      },
      "execution_count": null,
      "outputs": []
    },
    {
      "cell_type": "code",
      "source": [
        "#read QVI data\n",
        "df = pd.read_csv(\"/content/drive/MyDrive/Portfolio/Quantium/QVI_data.csv\")\n",
        "df.head()"
      ],
      "metadata": {
        "colab": {
          "base_uri": "https://localhost:8080/",
          "height": 206
        },
        "id": "qXnNSIW55ZpR",
        "outputId": "9254fad8-9740-4dc0-85a6-614312fdf3fe"
      },
      "execution_count": null,
      "outputs": [
        {
          "output_type": "execute_result",
          "data": {
            "text/plain": [
              "   LYLTY_CARD_NBR        DATE  STORE_NBR  TXN_ID  PROD_NBR  \\\n",
              "0            1000  2018-10-17          1       1         5   \n",
              "1            1002  2018-09-16          1       2        58   \n",
              "2            1003  2019-03-07          1       3        52   \n",
              "3            1003  2019-03-08          1       4       106   \n",
              "4            1004  2018-11-02          1       5        96   \n",
              "\n",
              "                                PROD_NAME  PROD_QTY  TOT_SALES  PACK_SIZE  \\\n",
              "0  Natural Chip        Compny SeaSalt175g         2        6.0        175   \n",
              "1   Red Rock Deli Chikn&Garlic Aioli 150g         1        2.7        150   \n",
              "2   Grain Waves Sour    Cream&Chives 210G         1        3.6        210   \n",
              "3  Natural ChipCo      Hony Soy Chckn175g         1        3.0        175   \n",
              "4          WW Original Stacked Chips 160g         1        1.9        160   \n",
              "\n",
              "        BRAND              LIFESTAGE PREMIUM_CUSTOMER  \n",
              "0     NATURAL  YOUNG SINGLES/COUPLES          Premium  \n",
              "1         RRD  YOUNG SINGLES/COUPLES       Mainstream  \n",
              "2     GRNWVES         YOUNG FAMILIES           Budget  \n",
              "3     NATURAL         YOUNG FAMILIES           Budget  \n",
              "4  WOOLWORTHS  OLDER SINGLES/COUPLES       Mainstream  "
            ],
            "text/html": [
              "\n",
              "  <div id=\"df-9b7b7a89-4715-444f-a3d4-abbb93b98635\" class=\"colab-df-container\">\n",
              "    <div>\n",
              "<style scoped>\n",
              "    .dataframe tbody tr th:only-of-type {\n",
              "        vertical-align: middle;\n",
              "    }\n",
              "\n",
              "    .dataframe tbody tr th {\n",
              "        vertical-align: top;\n",
              "    }\n",
              "\n",
              "    .dataframe thead th {\n",
              "        text-align: right;\n",
              "    }\n",
              "</style>\n",
              "<table border=\"1\" class=\"dataframe\">\n",
              "  <thead>\n",
              "    <tr style=\"text-align: right;\">\n",
              "      <th></th>\n",
              "      <th>LYLTY_CARD_NBR</th>\n",
              "      <th>DATE</th>\n",
              "      <th>STORE_NBR</th>\n",
              "      <th>TXN_ID</th>\n",
              "      <th>PROD_NBR</th>\n",
              "      <th>PROD_NAME</th>\n",
              "      <th>PROD_QTY</th>\n",
              "      <th>TOT_SALES</th>\n",
              "      <th>PACK_SIZE</th>\n",
              "      <th>BRAND</th>\n",
              "      <th>LIFESTAGE</th>\n",
              "      <th>PREMIUM_CUSTOMER</th>\n",
              "    </tr>\n",
              "  </thead>\n",
              "  <tbody>\n",
              "    <tr>\n",
              "      <th>0</th>\n",
              "      <td>1000</td>\n",
              "      <td>2018-10-17</td>\n",
              "      <td>1</td>\n",
              "      <td>1</td>\n",
              "      <td>5</td>\n",
              "      <td>Natural Chip        Compny SeaSalt175g</td>\n",
              "      <td>2</td>\n",
              "      <td>6.0</td>\n",
              "      <td>175</td>\n",
              "      <td>NATURAL</td>\n",
              "      <td>YOUNG SINGLES/COUPLES</td>\n",
              "      <td>Premium</td>\n",
              "    </tr>\n",
              "    <tr>\n",
              "      <th>1</th>\n",
              "      <td>1002</td>\n",
              "      <td>2018-09-16</td>\n",
              "      <td>1</td>\n",
              "      <td>2</td>\n",
              "      <td>58</td>\n",
              "      <td>Red Rock Deli Chikn&amp;Garlic Aioli 150g</td>\n",
              "      <td>1</td>\n",
              "      <td>2.7</td>\n",
              "      <td>150</td>\n",
              "      <td>RRD</td>\n",
              "      <td>YOUNG SINGLES/COUPLES</td>\n",
              "      <td>Mainstream</td>\n",
              "    </tr>\n",
              "    <tr>\n",
              "      <th>2</th>\n",
              "      <td>1003</td>\n",
              "      <td>2019-03-07</td>\n",
              "      <td>1</td>\n",
              "      <td>3</td>\n",
              "      <td>52</td>\n",
              "      <td>Grain Waves Sour    Cream&amp;Chives 210G</td>\n",
              "      <td>1</td>\n",
              "      <td>3.6</td>\n",
              "      <td>210</td>\n",
              "      <td>GRNWVES</td>\n",
              "      <td>YOUNG FAMILIES</td>\n",
              "      <td>Budget</td>\n",
              "    </tr>\n",
              "    <tr>\n",
              "      <th>3</th>\n",
              "      <td>1003</td>\n",
              "      <td>2019-03-08</td>\n",
              "      <td>1</td>\n",
              "      <td>4</td>\n",
              "      <td>106</td>\n",
              "      <td>Natural ChipCo      Hony Soy Chckn175g</td>\n",
              "      <td>1</td>\n",
              "      <td>3.0</td>\n",
              "      <td>175</td>\n",
              "      <td>NATURAL</td>\n",
              "      <td>YOUNG FAMILIES</td>\n",
              "      <td>Budget</td>\n",
              "    </tr>\n",
              "    <tr>\n",
              "      <th>4</th>\n",
              "      <td>1004</td>\n",
              "      <td>2018-11-02</td>\n",
              "      <td>1</td>\n",
              "      <td>5</td>\n",
              "      <td>96</td>\n",
              "      <td>WW Original Stacked Chips 160g</td>\n",
              "      <td>1</td>\n",
              "      <td>1.9</td>\n",
              "      <td>160</td>\n",
              "      <td>WOOLWORTHS</td>\n",
              "      <td>OLDER SINGLES/COUPLES</td>\n",
              "      <td>Mainstream</td>\n",
              "    </tr>\n",
              "  </tbody>\n",
              "</table>\n",
              "</div>\n",
              "    <div class=\"colab-df-buttons\">\n",
              "\n",
              "  <div class=\"colab-df-container\">\n",
              "    <button class=\"colab-df-convert\" onclick=\"convertToInteractive('df-9b7b7a89-4715-444f-a3d4-abbb93b98635')\"\n",
              "            title=\"Convert this dataframe to an interactive table.\"\n",
              "            style=\"display:none;\">\n",
              "\n",
              "  <svg xmlns=\"http://www.w3.org/2000/svg\" height=\"24px\" viewBox=\"0 -960 960 960\">\n",
              "    <path d=\"M120-120v-720h720v720H120Zm60-500h600v-160H180v160Zm220 220h160v-160H400v160Zm0 220h160v-160H400v160ZM180-400h160v-160H180v160Zm440 0h160v-160H620v160ZM180-180h160v-160H180v160Zm440 0h160v-160H620v160Z\"/>\n",
              "  </svg>\n",
              "    </button>\n",
              "\n",
              "  <style>\n",
              "    .colab-df-container {\n",
              "      display:flex;\n",
              "      gap: 12px;\n",
              "    }\n",
              "\n",
              "    .colab-df-convert {\n",
              "      background-color: #E8F0FE;\n",
              "      border: none;\n",
              "      border-radius: 50%;\n",
              "      cursor: pointer;\n",
              "      display: none;\n",
              "      fill: #1967D2;\n",
              "      height: 32px;\n",
              "      padding: 0 0 0 0;\n",
              "      width: 32px;\n",
              "    }\n",
              "\n",
              "    .colab-df-convert:hover {\n",
              "      background-color: #E2EBFA;\n",
              "      box-shadow: 0px 1px 2px rgba(60, 64, 67, 0.3), 0px 1px 3px 1px rgba(60, 64, 67, 0.15);\n",
              "      fill: #174EA6;\n",
              "    }\n",
              "\n",
              "    .colab-df-buttons div {\n",
              "      margin-bottom: 4px;\n",
              "    }\n",
              "\n",
              "    [theme=dark] .colab-df-convert {\n",
              "      background-color: #3B4455;\n",
              "      fill: #D2E3FC;\n",
              "    }\n",
              "\n",
              "    [theme=dark] .colab-df-convert:hover {\n",
              "      background-color: #434B5C;\n",
              "      box-shadow: 0px 1px 3px 1px rgba(0, 0, 0, 0.15);\n",
              "      filter: drop-shadow(0px 1px 2px rgba(0, 0, 0, 0.3));\n",
              "      fill: #FFFFFF;\n",
              "    }\n",
              "  </style>\n",
              "\n",
              "    <script>\n",
              "      const buttonEl =\n",
              "        document.querySelector('#df-9b7b7a89-4715-444f-a3d4-abbb93b98635 button.colab-df-convert');\n",
              "      buttonEl.style.display =\n",
              "        google.colab.kernel.accessAllowed ? 'block' : 'none';\n",
              "\n",
              "      async function convertToInteractive(key) {\n",
              "        const element = document.querySelector('#df-9b7b7a89-4715-444f-a3d4-abbb93b98635');\n",
              "        const dataTable =\n",
              "          await google.colab.kernel.invokeFunction('convertToInteractive',\n",
              "                                                    [key], {});\n",
              "        if (!dataTable) return;\n",
              "\n",
              "        const docLinkHtml = 'Like what you see? Visit the ' +\n",
              "          '<a target=\"_blank\" href=https://colab.research.google.com/notebooks/data_table.ipynb>data table notebook</a>'\n",
              "          + ' to learn more about interactive tables.';\n",
              "        element.innerHTML = '';\n",
              "        dataTable['output_type'] = 'display_data';\n",
              "        await google.colab.output.renderOutput(dataTable, element);\n",
              "        const docLink = document.createElement('div');\n",
              "        docLink.innerHTML = docLinkHtml;\n",
              "        element.appendChild(docLink);\n",
              "      }\n",
              "    </script>\n",
              "  </div>\n",
              "\n",
              "\n",
              "<div id=\"df-3425b5bc-3484-4821-8921-752bb94a22cf\">\n",
              "  <button class=\"colab-df-quickchart\" onclick=\"quickchart('df-3425b5bc-3484-4821-8921-752bb94a22cf')\"\n",
              "            title=\"Suggest charts\"\n",
              "            style=\"display:none;\">\n",
              "\n",
              "<svg xmlns=\"http://www.w3.org/2000/svg\" height=\"24px\"viewBox=\"0 0 24 24\"\n",
              "     width=\"24px\">\n",
              "    <g>\n",
              "        <path d=\"M19 3H5c-1.1 0-2 .9-2 2v14c0 1.1.9 2 2 2h14c1.1 0 2-.9 2-2V5c0-1.1-.9-2-2-2zM9 17H7v-7h2v7zm4 0h-2V7h2v10zm4 0h-2v-4h2v4z\"/>\n",
              "    </g>\n",
              "</svg>\n",
              "  </button>\n",
              "\n",
              "<style>\n",
              "  .colab-df-quickchart {\n",
              "      --bg-color: #E8F0FE;\n",
              "      --fill-color: #1967D2;\n",
              "      --hover-bg-color: #E2EBFA;\n",
              "      --hover-fill-color: #174EA6;\n",
              "      --disabled-fill-color: #AAA;\n",
              "      --disabled-bg-color: #DDD;\n",
              "  }\n",
              "\n",
              "  [theme=dark] .colab-df-quickchart {\n",
              "      --bg-color: #3B4455;\n",
              "      --fill-color: #D2E3FC;\n",
              "      --hover-bg-color: #434B5C;\n",
              "      --hover-fill-color: #FFFFFF;\n",
              "      --disabled-bg-color: #3B4455;\n",
              "      --disabled-fill-color: #666;\n",
              "  }\n",
              "\n",
              "  .colab-df-quickchart {\n",
              "    background-color: var(--bg-color);\n",
              "    border: none;\n",
              "    border-radius: 50%;\n",
              "    cursor: pointer;\n",
              "    display: none;\n",
              "    fill: var(--fill-color);\n",
              "    height: 32px;\n",
              "    padding: 0;\n",
              "    width: 32px;\n",
              "  }\n",
              "\n",
              "  .colab-df-quickchart:hover {\n",
              "    background-color: var(--hover-bg-color);\n",
              "    box-shadow: 0 1px 2px rgba(60, 64, 67, 0.3), 0 1px 3px 1px rgba(60, 64, 67, 0.15);\n",
              "    fill: var(--button-hover-fill-color);\n",
              "  }\n",
              "\n",
              "  .colab-df-quickchart-complete:disabled,\n",
              "  .colab-df-quickchart-complete:disabled:hover {\n",
              "    background-color: var(--disabled-bg-color);\n",
              "    fill: var(--disabled-fill-color);\n",
              "    box-shadow: none;\n",
              "  }\n",
              "\n",
              "  .colab-df-spinner {\n",
              "    border: 2px solid var(--fill-color);\n",
              "    border-color: transparent;\n",
              "    border-bottom-color: var(--fill-color);\n",
              "    animation:\n",
              "      spin 1s steps(1) infinite;\n",
              "  }\n",
              "\n",
              "  @keyframes spin {\n",
              "    0% {\n",
              "      border-color: transparent;\n",
              "      border-bottom-color: var(--fill-color);\n",
              "      border-left-color: var(--fill-color);\n",
              "    }\n",
              "    20% {\n",
              "      border-color: transparent;\n",
              "      border-left-color: var(--fill-color);\n",
              "      border-top-color: var(--fill-color);\n",
              "    }\n",
              "    30% {\n",
              "      border-color: transparent;\n",
              "      border-left-color: var(--fill-color);\n",
              "      border-top-color: var(--fill-color);\n",
              "      border-right-color: var(--fill-color);\n",
              "    }\n",
              "    40% {\n",
              "      border-color: transparent;\n",
              "      border-right-color: var(--fill-color);\n",
              "      border-top-color: var(--fill-color);\n",
              "    }\n",
              "    60% {\n",
              "      border-color: transparent;\n",
              "      border-right-color: var(--fill-color);\n",
              "    }\n",
              "    80% {\n",
              "      border-color: transparent;\n",
              "      border-right-color: var(--fill-color);\n",
              "      border-bottom-color: var(--fill-color);\n",
              "    }\n",
              "    90% {\n",
              "      border-color: transparent;\n",
              "      border-bottom-color: var(--fill-color);\n",
              "    }\n",
              "  }\n",
              "</style>\n",
              "\n",
              "  <script>\n",
              "    async function quickchart(key) {\n",
              "      const quickchartButtonEl =\n",
              "        document.querySelector('#' + key + ' button');\n",
              "      quickchartButtonEl.disabled = true;  // To prevent multiple clicks.\n",
              "      quickchartButtonEl.classList.add('colab-df-spinner');\n",
              "      try {\n",
              "        const charts = await google.colab.kernel.invokeFunction(\n",
              "            'suggestCharts', [key], {});\n",
              "      } catch (error) {\n",
              "        console.error('Error during call to suggestCharts:', error);\n",
              "      }\n",
              "      quickchartButtonEl.classList.remove('colab-df-spinner');\n",
              "      quickchartButtonEl.classList.add('colab-df-quickchart-complete');\n",
              "    }\n",
              "    (() => {\n",
              "      let quickchartButtonEl =\n",
              "        document.querySelector('#df-3425b5bc-3484-4821-8921-752bb94a22cf button');\n",
              "      quickchartButtonEl.style.display =\n",
              "        google.colab.kernel.accessAllowed ? 'block' : 'none';\n",
              "    })();\n",
              "  </script>\n",
              "</div>\n",
              "\n",
              "    </div>\n",
              "  </div>\n"
            ],
            "application/vnd.google.colaboratory.intrinsic+json": {
              "type": "dataframe",
              "variable_name": "df"
            }
          },
          "metadata": {},
          "execution_count": 6
        }
      ]
    },
    {
      "cell_type": "code",
      "source": [
        "df.info()"
      ],
      "metadata": {
        "colab": {
          "base_uri": "https://localhost:8080/"
        },
        "id": "nsk9AeLB5xvs",
        "outputId": "fa07f708-ecbd-4ed3-a711-4f1250cad0de"
      },
      "execution_count": null,
      "outputs": [
        {
          "output_type": "stream",
          "name": "stdout",
          "text": [
            "<class 'pandas.core.frame.DataFrame'>\n",
            "RangeIndex: 264834 entries, 0 to 264833\n",
            "Data columns (total 12 columns):\n",
            " #   Column            Non-Null Count   Dtype  \n",
            "---  ------            --------------   -----  \n",
            " 0   LYLTY_CARD_NBR    264834 non-null  int64  \n",
            " 1   DATE              264834 non-null  object \n",
            " 2   STORE_NBR         264834 non-null  int64  \n",
            " 3   TXN_ID            264834 non-null  int64  \n",
            " 4   PROD_NBR          264834 non-null  int64  \n",
            " 5   PROD_NAME         264834 non-null  object \n",
            " 6   PROD_QTY          264834 non-null  int64  \n",
            " 7   TOT_SALES         264834 non-null  float64\n",
            " 8   PACK_SIZE         264834 non-null  int64  \n",
            " 9   BRAND             264834 non-null  object \n",
            " 10  LIFESTAGE         264834 non-null  object \n",
            " 11  PREMIUM_CUSTOMER  264834 non-null  object \n",
            "dtypes: float64(1), int64(6), object(5)\n",
            "memory usage: 24.2+ MB\n"
          ]
        }
      ]
    },
    {
      "cell_type": "code",
      "source": [
        "df.isnull().sum()"
      ],
      "metadata": {
        "colab": {
          "base_uri": "https://localhost:8080/"
        },
        "id": "MVVSL2g450vf",
        "outputId": "74dd47d3-4775-456c-e8c6-9341345ae6fd"
      },
      "execution_count": null,
      "outputs": [
        {
          "output_type": "execute_result",
          "data": {
            "text/plain": [
              "LYLTY_CARD_NBR      0\n",
              "DATE                0\n",
              "STORE_NBR           0\n",
              "TXN_ID              0\n",
              "PROD_NBR            0\n",
              "PROD_NAME           0\n",
              "PROD_QTY            0\n",
              "TOT_SALES           0\n",
              "PACK_SIZE           0\n",
              "BRAND               0\n",
              "LIFESTAGE           0\n",
              "PREMIUM_CUSTOMER    0\n",
              "dtype: int64"
            ]
          },
          "metadata": {},
          "execution_count": 8
        }
      ]
    },
    {
      "cell_type": "code",
      "source": [
        "# Convert the 'DATE' column to datetime\n",
        "df['DATE'] = pd.to_datetime(df['DATE'])\n",
        "\n",
        "# Find the minimum and maximum dates to see the time frame we're working with\n",
        "min_date = df['DATE'].min()\n",
        "max_date = df['DATE'].max()\n",
        "\n",
        "print(f\"The dataset ranges from {min_date} to {max_date}.\")\n"
      ],
      "metadata": {
        "colab": {
          "base_uri": "https://localhost:8080/"
        },
        "id": "jn1tbLxj57N2",
        "outputId": "75cd981c-0e8e-496b-91fd-efcb62c82e12"
      },
      "execution_count": null,
      "outputs": [
        {
          "output_type": "stream",
          "name": "stdout",
          "text": [
            "The dataset ranges from 2018-07-01 00:00:00 to 2019-06-30 00:00:00.\n"
          ]
        }
      ]
    },
    {
      "cell_type": "markdown",
      "source": [
        "Lets consider that the pre trial period was till Feb 2019\n",
        "i.e trial period starts from Feb 2019"
      ],
      "metadata": {
        "id": "MElCJwXk8Xvy"
      }
    },
    {
      "cell_type": "code",
      "source": [
        "# Filter the data to include only dates before February 2019 for the pre-trial period\n",
        "pre_trial_data = df[df['DATE'] < '2019-02-01']"
      ],
      "metadata": {
        "id": "a8GddcpD8s1F"
      },
      "execution_count": null,
      "outputs": []
    },
    {
      "cell_type": "code",
      "source": [
        "# Calculate total sales revenue for each store\n",
        "total_sales_by_store = pre_trial_data.groupby('STORE_NBR')['TOT_SALES'].sum().reset_index(name='Total_Sales')\n",
        "print(total_sales_by_store)"
      ],
      "metadata": {
        "colab": {
          "base_uri": "https://localhost:8080/"
        },
        "id": "RECpajpP-UXU",
        "outputId": "1b671894-2621-46a8-dc09-5f818f2306d3"
      },
      "execution_count": null,
      "outputs": [
        {
          "output_type": "stream",
          "name": "stdout",
          "text": [
            "     STORE_NBR  Total_Sales\n",
            "0            1      1386.90\n",
            "1            2      1128.50\n",
            "2            3      7526.15\n",
            "3            4      9127.00\n",
            "4            5      5739.70\n",
            "..         ...          ...\n",
            "266        268      1549.05\n",
            "267        269      6664.50\n",
            "268        270      6697.95\n",
            "269        271      5765.10\n",
            "270        272      2744.35\n",
            "\n",
            "[271 rows x 2 columns]\n"
          ]
        }
      ]
    },
    {
      "cell_type": "code",
      "source": [
        "# Calculate total number of customers for each store\n",
        "total_customers_by_store = pre_trial_data.groupby('STORE_NBR')['LYLTY_CARD_NBR'].nunique().reset_index(name='Total_Customers')\n"
      ],
      "metadata": {
        "id": "hCWDkCCH_DD5"
      },
      "execution_count": null,
      "outputs": []
    },
    {
      "cell_type": "code",
      "source": [
        "# Calculate total number of transactions for each store\n",
        "total_transactions_by_store = pre_trial_data.groupby('STORE_NBR')['TXN_ID'].nunique().reset_index(name='Total_Transactions')"
      ],
      "metadata": {
        "id": "91zEz0cH_LUd"
      },
      "execution_count": null,
      "outputs": []
    },
    {
      "cell_type": "code",
      "source": [
        "# Merge the total sales and total customers dataframes\n",
        "store_metrics = total_sales_by_store.merge(total_customers_by_store, on='STORE_NBR')"
      ],
      "metadata": {
        "id": "zNLsO_Qa_nZb"
      },
      "execution_count": null,
      "outputs": []
    },
    {
      "cell_type": "code",
      "source": [
        " # Calculate the average number of transactions per customer for each store\n",
        "store_metrics = store_metrics.merge(total_transactions_by_store, on='STORE_NBR')\n",
        "store_metrics['Avg_Transactions_Per_Customer'] = store_metrics['Total_Transactions'] / store_metrics['Total_Customers']"
      ],
      "metadata": {
        "id": "3f3j4BkDAidN"
      },
      "execution_count": null,
      "outputs": []
    },
    {
      "cell_type": "markdown",
      "source": [
        "Now you have a dataframe 'store_metrics' with the total sales, total customers, and average transactions per customer for each store"
      ],
      "metadata": {
        "id": "tIMyINqGB63L"
      }
    },
    {
      "cell_type": "code",
      "source": [
        "store_metrics.info()"
      ],
      "metadata": {
        "colab": {
          "base_uri": "https://localhost:8080/"
        },
        "id": "fHhd7VovB8FI",
        "outputId": "acc9e03a-e18d-47b7-8af4-e206ec4698b3"
      },
      "execution_count": null,
      "outputs": [
        {
          "output_type": "stream",
          "name": "stdout",
          "text": [
            "<class 'pandas.core.frame.DataFrame'>\n",
            "Int64Index: 271 entries, 0 to 270\n",
            "Data columns (total 5 columns):\n",
            " #   Column                         Non-Null Count  Dtype  \n",
            "---  ------                         --------------  -----  \n",
            " 0   STORE_NBR                      271 non-null    int64  \n",
            " 1   Total_Sales                    271 non-null    float64\n",
            " 2   Total_Customers                271 non-null    int64  \n",
            " 3   Total_Transactions             271 non-null    int64  \n",
            " 4   Avg_Transactions_Per_Customer  271 non-null    float64\n",
            "dtypes: float64(2), int64(3)\n",
            "memory usage: 12.7 KB\n"
          ]
        }
      ]
    },
    {
      "cell_type": "code",
      "source": [
        "# Assuming trial_store_id is the ID of your trial store\n",
        "trial_store_id = 77\n",
        "trial_store_sales = store_metrics.loc[store_metrics['STORE_NBR'] == trial_store_id, 'Total_Sales'].values[0]\n",
        "\n",
        "# Calculate the absolute difference in total sales between the trial store and all potential control stores\n",
        "store_metrics['Sales_Difference'] = abs(store_metrics['Total_Sales'] - trial_store_sales)\n",
        "\n",
        "# Sort stores by the smallest difference\n",
        "sorted_stores = store_metrics.sort_values(by='Sales_Difference')\n",
        "\n",
        "# The control store is the one with the smallest difference in sales (excluding the trial store itself)\n",
        "control_store_id = sorted_stores[sorted_stores['STORE_NBR'] != trial_store_id].iloc[0]['STORE_NBR']\n",
        "print(f\"The control store for Store {trial_store_id} is Store {control_store_id}.\")\n"
      ],
      "metadata": {
        "colab": {
          "base_uri": "https://localhost:8080/"
        },
        "id": "RZEYLhqCGlc7",
        "outputId": "4a3b798b-6675-4dde-814b-bcfb9f9dfbe9"
      },
      "execution_count": null,
      "outputs": [
        {
          "output_type": "stream",
          "name": "stdout",
          "text": [
            "The control store for Store 77 is Store 187.0.\n"
          ]
        }
      ]
    },
    {
      "cell_type": "code",
      "source": [
        "from scipy.stats import ttest_ind\n",
        "\n",
        "# Filter data for the trial and control store during the trial period (e.g., Feb 2019 to April 2019)\n",
        "trial_store_sales_during_trial = df[(df['STORE_NBR'] == trial_store_id) & (df['DATE'] >= '2019-02-01') & (df['DATE'] <= '2019-04-30')]['TOT_SALES']\n",
        "control_store_sales_during_trial = df[(df['STORE_NBR'] == control_store_id) & (df['DATE'] >= '2019-02-01') & (df['DATE'] <= '2019-04-30')]['TOT_SALES']\n",
        "\n",
        "# Conduct a T-test to see if there's a significant difference in sales\n",
        "t_stat, p_value = ttest_ind(trial_store_sales_during_trial, control_store_sales_during_trial, equal_var=False)\n",
        "\n",
        "print(f\"T-statistic: {t_stat}, P-value: {p_value}\")\n",
        "\n",
        "# Interpret the results\n",
        "alpha = 0.05  # Significance level\n",
        "if p_value < alpha:\n",
        "    print(\"There is a significant difference in sales between the trial and control store during the trial period.\")\n",
        "else:\n",
        "    print(\"There is no significant difference in sales between the trial and control store during the trial period.\")\n"
      ],
      "metadata": {
        "colab": {
          "base_uri": "https://localhost:8080/"
        },
        "id": "iC-E4rXzGqql",
        "outputId": "dffc3b81-e36c-4b9b-8c59-be361335b6c5"
      },
      "execution_count": null,
      "outputs": [
        {
          "output_type": "stream",
          "name": "stdout",
          "text": [
            "T-statistic: -3.3793427334545942, P-value: 0.000847360037371583\n",
            "There is a significant difference in sales between the trial and control store during the trial period.\n"
          ]
        }
      ]
    },
    {
      "cell_type": "code",
      "source": [
        "# Assuming trial_store_id is the ID of your trial store\n",
        "trial_store_id = 86  # Example store ID\n",
        "trial_store_sales = store_metrics.loc[store_metrics['STORE_NBR'] == trial_store_id, 'Total_Sales'].values[0]\n",
        "\n",
        "# Calculate the absolute difference in total sales between the trial store and all potential control stores\n",
        "store_metrics['Sales_Difference'] = abs(store_metrics['Total_Sales'] - trial_store_sales)\n",
        "\n",
        "# Sort stores by the smallest difference\n",
        "sorted_stores = store_metrics.sort_values(by='Sales_Difference')\n",
        "\n",
        "# The control store is the one with the smallest difference in sales (excluding the trial store itself)\n",
        "control_store_id = sorted_stores[sorted_stores['STORE_NBR'] != trial_store_id].iloc[0]['STORE_NBR']\n",
        "print(f\"The control store for Store {trial_store_id} is Store {control_store_id}.\")\n"
      ],
      "metadata": {
        "colab": {
          "base_uri": "https://localhost:8080/"
        },
        "id": "ry2JmkAaky0e",
        "outputId": "64a9f53e-7216-40be-fd6a-4fee0ea5146a"
      },
      "execution_count": null,
      "outputs": [
        {
          "output_type": "stream",
          "name": "stdout",
          "text": [
            "The control store for Store 86 is Store 13.0.\n"
          ]
        }
      ]
    },
    {
      "cell_type": "code",
      "source": [
        "from scipy.stats import ttest_ind\n",
        "\n",
        "# Filter data for the trial and control store during the trial period (e.g., Feb 2019 to April 2019)\n",
        "trial_store_sales_during_trial = df[(df['STORE_NBR'] == trial_store_id) & (df['DATE'] >= '2019-02-01') & (df['DATE'] <= '2019-04-30')]['TOT_SALES']\n",
        "control_store_sales_during_trial = df[(df['STORE_NBR'] == control_store_id) & (df['DATE'] >= '2019-02-01') & (df['DATE'] <= '2019-04-30')]['TOT_SALES']\n",
        "\n",
        "# Conduct a T-test to see if there's a significant difference in sales\n",
        "t_stat, p_value = ttest_ind(trial_store_sales_during_trial, control_store_sales_during_trial, equal_var=False)\n",
        "\n",
        "print(f\"T-statistic: {t_stat}, P-value: {p_value}\")\n",
        "\n",
        "# Interpret the results\n",
        "alpha = 0.05  # Significance level\n",
        "if p_value < alpha:\n",
        "    print(\"There is a significant difference in sales between the trial and control store during the trial period.\")\n",
        "else:\n",
        "    print(\"There is no significant difference in sales between the trial and control store during the trial period.\")\n"
      ],
      "metadata": {
        "colab": {
          "base_uri": "https://localhost:8080/"
        },
        "id": "nwDpYkNbk1is",
        "outputId": "30d797f7-c209-4fe6-f9ba-b7ef4d81ce32"
      },
      "execution_count": null,
      "outputs": [
        {
          "output_type": "stream",
          "name": "stdout",
          "text": [
            "T-statistic: -0.8843715580999169, P-value: 0.37675334595075805\n",
            "There is no significant difference in sales between the trial and control store during the trial period.\n"
          ]
        }
      ]
    },
    {
      "cell_type": "code",
      "source": [
        "# Assuming trial_store_id is the ID of your trial store\n",
        "trial_store_id = 88  # Example store ID\n",
        "trial_store_sales = store_metrics.loc[store_metrics['STORE_NBR'] == trial_store_id, 'Total_Sales'].values[0]\n",
        "\n",
        "# Calculate the absolute difference in total sales between the trial store and all potential control stores\n",
        "store_metrics['Sales_Difference'] = abs(store_metrics['Total_Sales'] - trial_store_sales)\n",
        "\n",
        "# Sort stores by the smallest difference\n",
        "sorted_stores = store_metrics.sort_values(by='Sales_Difference')\n",
        "\n",
        "# The control store is the one with the smallest difference in sales (excluding the trial store itself)\n",
        "control_store_id = sorted_stores[sorted_stores['STORE_NBR'] != trial_store_id].iloc[0]['STORE_NBR']\n",
        "print(f\"The control store for Store {trial_store_id} is Store {control_store_id}.\")\n"
      ],
      "metadata": {
        "colab": {
          "base_uri": "https://localhost:8080/"
        },
        "id": "Sls2a9zTlcWC",
        "outputId": "aa8b46e4-7beb-4334-a427-e18274582947"
      },
      "execution_count": null,
      "outputs": [
        {
          "output_type": "stream",
          "name": "stdout",
          "text": [
            "The control store for Store 88 is Store 237.0.\n"
          ]
        }
      ]
    },
    {
      "cell_type": "code",
      "source": [
        "from scipy.stats import ttest_ind\n",
        "\n",
        "# Filter data for the trial and control store during the trial period (e.g., Feb 2019 to April 2019)\n",
        "trial_store_sales_during_trial = df[(df['STORE_NBR'] == trial_store_id) & (df['DATE'] >= '2019-02-01') & (df['DATE'] <= '2019-04-30')]['TOT_SALES']\n",
        "control_store_sales_during_trial = df[(df['STORE_NBR'] == control_store_id) & (df['DATE'] >= '2019-02-01') & (df['DATE'] <= '2019-04-30')]['TOT_SALES']\n",
        "\n",
        "# Conduct a T-test to see if there's a significant difference in sales\n",
        "t_stat, p_value = ttest_ind(trial_store_sales_during_trial, control_store_sales_during_trial, equal_var=False)\n",
        "\n",
        "print(f\"T-statistic: {t_stat}, P-value: {p_value}\")\n",
        "\n",
        "# Interpret the results\n",
        "alpha = 0.05  # Significance level\n",
        "if p_value < alpha:\n",
        "    print(\"There is a significant difference in sales between the trial and control store during the trial period.\")\n",
        "else:\n",
        "    print(\"There is no significant difference in sales between the trial and control store during the trial period.\")\n"
      ],
      "metadata": {
        "colab": {
          "base_uri": "https://localhost:8080/"
        },
        "id": "C2r7H92Elfu6",
        "outputId": "7b85ce02-85b3-4cff-a19d-cceb5fa48b4e"
      },
      "execution_count": null,
      "outputs": [
        {
          "output_type": "stream",
          "name": "stdout",
          "text": [
            "T-statistic: -0.5551819687429291, P-value: 0.5789105112915605\n",
            "There is no significant difference in sales between the trial and control store during the trial period.\n"
          ]
        }
      ]
    },
    {
      "cell_type": "code",
      "source": [
        "import pandas as pd\n",
        "import matplotlib.pyplot as plt\n",
        "\n",
        "# Example DataFrame structure\n",
        "data = {\n",
        "    'Month': ['2019-02', '2019-03', '2019-04', '2019-02', '2019-03', '2019-04'],  # The same length for all\n",
        "    'Store_Type': ['Trial', 'Trial', 'Trial', 'Control', 'Control', 'Control'],  # Equal number of 'Trial' and 'Control'\n",
        "    'Store_ID': [77, 77, 77, 233, 233, 233],  # Assuming 233 is the control store, matching lengths\n",
        "    'Total_Sales': [1000, 1100, 1200, 900, 950, 1000],  # Six entries, matching the others\n",
        "    'Total_Customers': [100, 105, 110, 90, 92, 95],  # Again, six entries\n",
        "    'Avg_Transactions_Per_Customer': [1.2, 1.3, 1.4, 1.1, 1.15, 1.2]  # And six entries here\n",
        "}\n",
        "\n",
        "df = pd.DataFrame(data)\n",
        "\n",
        "# Plotting\n",
        "fig, axes = plt.subplots(3, 1, figsize=(10, 15), sharex=True)\n",
        "\n",
        "# Total Sales\n",
        "df[df['Store_Type'] == 'Trial'].plot(x='Month', y='Total_Sales', ax=axes[0], marker='o', label='Trial Store')\n",
        "df[df['Store_Type'] == 'Control'].plot(x='Month', y='Total_Sales', ax=axes[0], marker='x', label='Control Store')\n",
        "axes[0].set_title('Total Sales')\n",
        "axes[0].set_ylabel('Sales')\n",
        "\n",
        "# Total Customers\n",
        "df[df['Store_Type'] == 'Trial'].plot(x='Month', y='Total_Customers', ax=axes[1], marker='o', label='Trial Store')\n",
        "df[df['Store_Type'] == 'Control'].plot(x='Month', y='Total_Customers', ax=axes[1], marker='x', label='Control Store')\n",
        "axes[1].set_title('Total Customers')\n",
        "axes[1].set_ylabel('Customers')\n",
        "\n",
        "# Average Transactions Per Customer\n",
        "df[df['Store_Type'] == 'Trial'].plot(x='Month', y='Avg_Transactions_Per_Customer', ax=axes[2], marker='o', label='Trial Store')\n",
        "df[df['Store_Type'] == 'Control'].plot(x='Month', y='Avg_Transactions_Per_Customer', ax=axes[2], marker='x', label='Control Store')\n",
        "axes[2].set_title('Average Transactions Per Customer')\n",
        "axes[2].set_ylabel('Transactions')\n",
        "\n",
        "plt.xlabel('Month')\n",
        "plt.xticks(rotation=45)\n",
        "plt.legend()\n",
        "plt.tight_layout()\n",
        "plt.show()\n"
      ],
      "metadata": {
        "colab": {
          "base_uri": "https://localhost:8080/",
          "height": 1000
        },
        "id": "Pg-cFU4CohQa",
        "outputId": "5c9ae9c3-6896-4917-e00f-e31959ba53f4"
      },
      "execution_count": null,
      "outputs": [
        {
          "output_type": "display_data",
          "data": {
            "text/plain": [
              "<Figure size 1000x1500 with 3 Axes>"
            ],
            "image/png": "[encoded data removed]"
          },
          "metadata": {}
        }
      ]
    }
  ]
}